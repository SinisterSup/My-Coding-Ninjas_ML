{
 "cells": [
  {
   "cell_type": "code",
   "execution_count": null,
   "id": "4cbf005f",
   "metadata": {},
   "outputs": [],
   "source": [
    "import tensorflow as tf"
   ]
  },
  {
   "cell_type": "code",
   "execution_count": null,
   "id": "3db3ef17",
   "metadata": {},
   "outputs": [],
   "source": [
    "from tensorflow.keras import layers\n",
    "from tensorflow.keras import Model"
   ]
  },
  {
   "cell_type": "code",
   "execution_count": null,
   "id": "fb76ce5a",
   "metadata": {},
   "outputs": [],
   "source": [
    "(x_train, y_train), (x_test, y_test) = tf.keras.datasets.mnist.load_data()"
   ]
  },
  {
   "cell_type": "code",
   "execution_count": null,
   "id": "5957e7d4",
   "metadata": {},
   "outputs": [],
   "source": [
    "class MyLayer(layers.Layer):\n",
    "    \n",
    "    def __init__(self, units, input_dim, activation):\n",
    "        super(MyLayer, self).__init__()\n",
    "        w_init = tf.random_normal_initializer()\n",
    "        self.w = tf.Variable(initial_value=w_init(shape = (input_dim, units), dtype = 'float32'), trainable=True)\n",
    "        b_init = tf.random_normal_initializer()\n",
    "        self.b = tf.Variable(initial_value=b_init(shape = (units,), dtype = 'float32'), trainable = True)\n",
    "        self.activation = activation\n",
    "    \n",
    "    def call(self, inputs):\n",
    "        linear_op = tf.add(tf.matmul(inputs, self.w), self.b)\n",
    "        if self.activation == 'relu':\n",
    "            return tf.nn.relu(linear_op)\n",
    "        elif self.activation == 'softmax':\n",
    "            return tf.nn.softmax(linear_op)\n",
    "        else:\n",
    "            raise AttributeError('Unknown activation')"
   ]
  },
  {
   "cell_type": "code",
   "execution_count": null,
   "id": "08d9c4a0",
   "metadata": {},
   "outputs": [],
   "source": [
    "class MyModel(Model):\n",
    "    def __init__(self, n_input, n_hidden1, n_hidden2, n_classes):\n",
    "        super(MyModel, self).__init__()\n",
    "        self.layer1 = MyLayer(n_hidden1, n_input, 'relu')\n",
    "        self.layer2 = MyLayer(n_hidden2, n_hidden1, 'relu')\n",
    "        self.out_layer = MyLayer(n_classes, n_hidden2, 'softmax')\n",
    "        \n",
    "    def call(self, inputs):\n",
    "        layer1_out = self.layer1(inputs)\n",
    "        layer2_out = self.layer1(layer1_out)\n",
    "        return self.out_layer(layer2_out)"
   ]
  },
  {
   "cell_type": "code",
   "execution_count": null,
   "id": "d6ac48bc",
   "metadata": {},
   "outputs": [],
   "source": [
    "model = MyModel(784, 256, 256, 10)"
   ]
  },
  {
   "cell_type": "code",
   "execution_count": null,
   "id": "3b364da9",
   "metadata": {},
   "outputs": [],
   "source": [
    "model.compile(optimizer='adam', loss='categorical_crossentropy', metrics=['accuracy'])"
   ]
  },
  {
   "cell_type": "code",
   "execution_count": null,
   "id": "14fe665b",
   "metadata": {},
   "outputs": [],
   "source": [
    "model.fit(x_train, y_train, epochs=10, batch_size=512)"
   ]
  },
  {
   "cell_type": "code",
   "execution_count": null,
   "id": "eba4dad2",
   "metadata": {},
   "outputs": [],
   "source": [
    "model.evaluate(x_test, y_test)"
   ]
  }
 ],
 "metadata": {
  "kernelspec": {
   "display_name": "Python 3 (ipykernel)",
   "language": "python",
   "name": "python3"
  },
  "language_info": {
   "codemirror_mode": {
    "name": "ipython",
    "version": 3
   },
   "file_extension": ".py",
   "mimetype": "text/x-python",
   "name": "python",
   "nbconvert_exporter": "python",
   "pygments_lexer": "ipython3",
   "version": "3.9.12"
  }
 },
 "nbformat": 4,
 "nbformat_minor": 5
}
