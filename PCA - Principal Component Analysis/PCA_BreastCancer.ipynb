{
 "cells": [
  {
   "cell_type": "code",
   "execution_count": 1,
   "id": "0998390b",
   "metadata": {},
   "outputs": [],
   "source": [
    "from sklearn import decomposition, linear_model, datasets\n",
    "import numpy as np\n",
    "import time\n",
    "from sklearn.preprocessing import StandardScaler\n",
    "from sklearn.model_selection import train_test_split"
   ]
  },
  {
   "cell_type": "code",
   "execution_count": 2,
   "id": "cc2601f5",
   "metadata": {},
   "outputs": [],
   "source": [
    "breast_cancer = datasets.load_breast_cancer()"
   ]
  },
  {
   "cell_type": "code",
   "execution_count": 3,
   "id": "ca475a7f",
   "metadata": {},
   "outputs": [
    {
     "data": {
      "text/plain": [
       "(569, 30)"
      ]
     },
     "execution_count": 3,
     "metadata": {},
     "output_type": "execute_result"
    }
   ],
   "source": [
    "X = breast_cancer.data\n",
    "X.shape"
   ]
  },
  {
   "cell_type": "code",
   "execution_count": 4,
   "id": "3ef0a848",
   "metadata": {},
   "outputs": [],
   "source": [
    "sc = StandardScaler()\n",
    "X_std = sc.fit_transform(X)"
   ]
  },
  {
   "cell_type": "code",
   "execution_count": 5,
   "id": "e269e27e",
   "metadata": {},
   "outputs": [],
   "source": [
    "x_train,x_test,y_train,y_test = train_test_split(X_std,breast_cancer.target,random_state=0)"
   ]
  },
  {
   "cell_type": "code",
   "execution_count": 6,
   "id": "af87b058",
   "metadata": {},
   "outputs": [],
   "source": [
    "pca = decomposition.PCA(n_components=15)\n",
    "x_train_pca = pca.fit_transform(x_train)\n",
    "x_test_pca = pca.transform(x_test)"
   ]
  },
  {
   "cell_type": "code",
   "execution_count": 7,
   "id": "bd31799a",
   "metadata": {},
   "outputs": [
    {
     "name": "stdout",
     "output_type": "stream",
     "text": [
      "(426, 15)\n",
      "(143, 15)\n",
      "(426,)\n",
      "(143,)\n"
     ]
    }
   ],
   "source": [
    "print(x_train_pca.shape)\n",
    "print(x_test_pca.shape)\n",
    "print(y_train.shape)\n",
    "print(y_test.shape)"
   ]
  },
  {
   "cell_type": "markdown",
   "id": "6e997f46",
   "metadata": {},
   "source": [
    "### Without Using PCA how Algorithm Works"
   ]
  },
  {
   "cell_type": "code",
   "execution_count": 14,
   "id": "0be8faf3",
   "metadata": {},
   "outputs": [
    {
     "name": "stdout",
     "output_type": "stream",
     "text": [
      "Time consumed is: 0.044597625732421875\n",
      "Accuracy or Score is: 0.965034965034965\n"
     ]
    }
   ],
   "source": [
    "logreg = linear_model.LogisticRegression()\n",
    "start = time.time()\n",
    "logreg.fit(x_train, y_train)\n",
    "end = time.time()\n",
    "print(f'Time consumed is: {end - start}')\n",
    "print(f'Accuracy or Score is: {logreg.score(x_test, y_test)}')"
   ]
  },
  {
   "cell_type": "markdown",
   "id": "7a34dc3c",
   "metadata": {},
   "source": [
    "### Using PCA Values - how Algorithm Works"
   ]
  },
  {
   "cell_type": "code",
   "execution_count": 16,
   "id": "e5b29dc9",
   "metadata": {},
   "outputs": [
    {
     "name": "stdout",
     "output_type": "stream",
     "text": [
      "Time consumed is: 0.034664154052734375\n",
      "Accuracy or Score is: 0.958041958041958\n"
     ]
    }
   ],
   "source": [
    "lr = linear_model.LogisticRegression()\n",
    "start = time.time()\n",
    "lr.fit(x_train_pca, y_train)\n",
    "end = time.time()\n",
    "print(f'Time consumed is: {end - start}')\n",
    "print(f'Accuracy or Score is: {lr.score(x_test_pca, y_test)}')"
   ]
  },
  {
   "cell_type": "code",
   "execution_count": 10,
   "id": "2aeedcf1",
   "metadata": {},
   "outputs": [
    {
     "data": {
      "text/plain": [
       "array([13.02746837,  5.81556555,  2.85848795,  1.91901713,  1.70021491,\n",
       "        1.20663908,  0.65333715,  0.42673847,  0.42645054,  0.34558986,\n",
       "        0.30805491,  0.25605447,  0.228152  ,  0.14326274,  0.0926283 ])"
      ]
     },
     "execution_count": 10,
     "metadata": {},
     "output_type": "execute_result"
    }
   ],
   "source": [
    "pca.explained_variance_"
   ]
  },
  {
   "cell_type": "markdown",
   "id": "b30fc421",
   "metadata": {},
   "source": [
    "### To Find & Choose n_components = k and Use it on Performing PCA"
   ]
  },
  {
   "cell_type": "code",
   "execution_count": 11,
   "id": "3f831b61",
   "metadata": {},
   "outputs": [
    {
     "data": {
      "text/plain": [
       "12"
      ]
     },
     "execution_count": 11,
     "metadata": {},
     "output_type": "execute_result"
    }
   ],
   "source": [
    "total = sum(pca.explained_variance_)\n",
    "k = 0\n",
    "current_variance = 0\n",
    "while current_variance/total < 0.98:\n",
    "    current_variance += pca.explained_variance_[k]\n",
    "    k=k+1\n",
    "k"
   ]
  },
  {
   "cell_type": "code",
   "execution_count": 12,
   "id": "4f65eded",
   "metadata": {},
   "outputs": [],
   "source": [
    "pca_new = decomposition.PCA(n_components=k)\n",
    "x_train_pca_new = pca_new.fit_transform(x_train)\n",
    "x_test_pca_new = pca_new.transform(x_test)"
   ]
  },
  {
   "cell_type": "code",
   "execution_count": 13,
   "id": "ba5a14a3",
   "metadata": {},
   "outputs": [
    {
     "name": "stdout",
     "output_type": "stream",
     "text": [
      "Time consumed is: 0.010358810424804688\n",
      "Accuracy or Score is: 0.965034965034965\n"
     ]
    }
   ],
   "source": [
    "lregr = linear_model.LogisticRegression()\n",
    "start = time.time()\n",
    "lregr.fit(x_train_pca_new, y_train)\n",
    "end = time.time()\n",
    "print(f'Time consumed is: {end - start}')\n",
    "print(f'Accuracy or Score is: {lregr.score(x_test_pca_new, y_test)}')"
   ]
  }
 ],
 "metadata": {
  "kernelspec": {
   "display_name": "Python 3 (ipykernel)",
   "language": "python",
   "name": "python3"
  },
  "language_info": {
   "codemirror_mode": {
    "name": "ipython",
    "version": 3
   },
   "file_extension": ".py",
   "mimetype": "text/x-python",
   "name": "python",
   "nbconvert_exporter": "python",
   "pygments_lexer": "ipython3",
   "version": "3.9.12"
  }
 },
 "nbformat": 4,
 "nbformat_minor": 5
}
