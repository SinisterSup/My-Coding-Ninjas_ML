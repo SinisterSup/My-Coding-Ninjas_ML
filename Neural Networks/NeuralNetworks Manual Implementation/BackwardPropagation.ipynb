{
 "cells": [
  {
   "cell_type": "code",
   "execution_count": 1,
   "id": "c3991851",
   "metadata": {},
   "outputs": [],
   "source": [
    "import numpy as np"
   ]
  },
  {
   "cell_type": "code",
   "execution_count": 2,
   "id": "8d4834e5",
   "metadata": {},
   "outputs": [
    {
     "data": {
      "text/plain": [
       "((4, 2), (4, 1))"
      ]
     },
     "execution_count": 2,
     "metadata": {},
     "output_type": "execute_result"
    }
   ],
   "source": [
    "X = np.array([[0,0], [0,1], [1,0], [1,1]])\n",
    "Y = np.array([[0, 0, 0, 1]]).T\n",
    "X.shape, Y.shape"
   ]
  },
  {
   "cell_type": "code",
   "execution_count": 3,
   "id": "53793439",
   "metadata": {},
   "outputs": [],
   "source": [
    "def sig(z):\n",
    "    return 1/(1 + np.exp(-z))"
   ]
  },
  {
   "cell_type": "code",
   "execution_count": 4,
   "id": "b17f5688",
   "metadata": {},
   "outputs": [],
   "source": [
    "def derivativeSig(z):\n",
    "    return sig(z) * (1 - sig(z))"
   ]
  },
  {
   "cell_type": "code",
   "execution_count": 5,
   "id": "36bfa0d5",
   "metadata": {},
   "outputs": [
    {
     "data": {
      "text/plain": [
       "(array([[-0.1815758 ],\n",
       "        [-0.57594442]]),\n",
       " array([0.48319675]))"
      ]
     },
     "execution_count": 5,
     "metadata": {},
     "output_type": "execute_result"
    }
   ],
   "source": [
    "# No hidden layer weights\n",
    "weights = 2 * np.random.random((2,1)) - 1\n",
    "bias = 2 * np.random.random(1) - 1\n",
    "learning_rate = 0.1\n",
    "weights, bias"
   ]
  },
  {
   "cell_type": "markdown",
   "id": "7801b4fd",
   "metadata": {},
   "source": [
    "## A Simple Neural Network with re-iterating Backward propagation\n"
   ]
  },
  {
   "cell_type": "code",
   "execution_count": 6,
   "id": "11651643",
   "metadata": {},
   "outputs": [
    {
     "data": {
      "text/plain": [
       "(array([[5.47058096],\n",
       "        [5.47058096]]),\n",
       " array([-8.29860294]),\n",
       " array([[2.48802343e-04],\n",
       "        [5.58285709e-02],\n",
       "        [5.58285711e-02],\n",
       "        [9.33550883e-01]]))"
      ]
     },
     "execution_count": 6,
     "metadata": {},
     "output_type": "execute_result"
    }
   ],
   "source": [
    "# Forward propagation without any hidden layer\n",
    "# Backward propagation is done with a number of iterations while pushing the error using gradient descent\n",
    "for _ in range(10000):\n",
    "    output0 = X\n",
    "    output = sig(np.dot(output0, weights) + bias)\n",
    "\n",
    "    first_term = output - Y\n",
    "    input_for_last_layer = np.dot(output0, weights) + bias\n",
    "    second_term = derivativeSig(input_for_last_layer)\n",
    "    first_two = first_term * second_term\n",
    "    first_two.shape\n",
    "\n",
    "    changes = np.array([[0.0], [0.0]])\n",
    "\n",
    "    for i in range(2):\n",
    "        for j in range(4):\n",
    "            changes[i][0] += first_two[j][0] * output0[j][i]\n",
    "\n",
    "    weights = weights - learning_rate * changes\n",
    "    bias_change = 0.0\n",
    "    for j in range(4):\n",
    "        bias_change += first_two[j][0] * 1\n",
    "    bias = bias - learning_rate * bias_change\n",
    "\n",
    "output = sig(np.dot(X, weights) + bias)\n",
    "weights, bias, output"
   ]
  }
 ],
 "metadata": {
  "kernelspec": {
   "display_name": "Python 3 (ipykernel)",
   "language": "python",
   "name": "python3"
  },
  "language_info": {
   "codemirror_mode": {
    "name": "ipython",
    "version": 3
   },
   "file_extension": ".py",
   "mimetype": "text/x-python",
   "name": "python",
   "nbconvert_exporter": "python",
   "pygments_lexer": "ipython3",
   "version": "3.9.12"
  }
 },
 "nbformat": 4,
 "nbformat_minor": 5
}
