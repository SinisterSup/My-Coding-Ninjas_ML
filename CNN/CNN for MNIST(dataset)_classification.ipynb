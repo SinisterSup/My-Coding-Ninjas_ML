{
 "cells": [
  {
   "cell_type": "code",
   "execution_count": null,
   "id": "f5ff56a2",
   "metadata": {},
   "outputs": [],
   "source": [
    "import tensorflow as tf"
   ]
  },
  {
   "cell_type": "code",
   "execution_count": null,
   "id": "4703259c",
   "metadata": {},
   "outputs": [],
   "source": [
    "from tensorflow.examples.tutorials.mnist import input_data\n",
    "mnist = input_data.read_data_sets(\"MNIST_data/\", one_hot=True)"
   ]
  },
  {
   "cell_type": "code",
   "execution_count": null,
   "id": "d184b3f8",
   "metadata": {},
   "outputs": [],
   "source": [
    "(x_train, y_train), (x_test, y_test) = tf.keras.datasets.mnist.load_data()"
   ]
  },
  {
   "cell_type": "code",
   "execution_count": null,
   "id": "86e3d9c6",
   "metadata": {},
   "outputs": [],
   "source": [
    "input_width = 28\n",
    "input_height = 28\n",
    "input_channels = 1\n",
    "input_pixels = 784\n",
    "\n",
    "n_conv1 = 32\n",
    "n_conv2 = 64\n",
    "stride_conv1 = 1\n",
    "stride_conv2 = 1\n",
    "conv1_k = 5\n",
    "conv2_k = 5\n",
    "max_pool1_k = 2\n",
    "max_pool2_k = 2\n",
    "\n",
    "n_hidden = 1024\n",
    "n_out = 10\n",
    "\n",
    "input_size_to_hidden = (input_width//(max_pool1_k*max_pool2_k)) * (input_height//(max_pool1_k*max_pool2_k)) * n_conv2 \n"
   ]
  },
  {
   "cell_type": "code",
   "execution_count": null,
   "id": "a6fed697",
   "metadata": {},
   "outputs": [],
   "source": [
    "weights = {\n",
    "    'wc1': tf.Variable(tf.random.normal([conv1_k, conv1_k, input_channels, n_conv1])),\n",
    "    'wc1': tf.Variable(tf.random.normal([conv2_k, conv2_k, n_conv1, n_conv2])),\n",
    "    'wh1': tf.Variable(tf.random.normal([input_size_to_hidden, n_hidden])),\n",
    "    'wo': tf.Variable(tf.random.normal([n_hidden, n_out]))\n",
    "}\n",
    "\n",
    "biases = {\n",
    "    'bc1': tf.Variable(tf.random.normal([n_conv1])),\n",
    "    'bc2': tf.Variable(tf.random.normal([n_conv2])),\n",
    "    'bh1': tf.Variable(tf.random.normal([n_hidden])),\n",
    "    'bo': tf.Variable(tf.random.normal([n_out]))\n",
    "}"
   ]
  },
  {
   "cell_type": "code",
   "execution_count": null,
   "id": "9c22eb68",
   "metadata": {},
   "outputs": [],
   "source": [
    "def conv(x, weights, bias, strides=1):\n",
    "    out = tf.nn.conv2d(x, weights, padding='SAME', strides = [1, strides, strides, 1])\n",
    "    out = tf.nn.bias_add(out, bias)\n",
    "    out = tf.nn.relu(out)\n",
    "    return out\n",
    "\n",
    "def maxpooling(x, k=2):\n",
    "    return tf.nn.max_pool(x, padding='SAME', ksize=[1, k, k, 1], strides=[1, k, k, 1])"
   ]
  },
  {
   "cell_type": "code",
   "execution_count": null,
   "id": "3be5a9d2",
   "metadata": {},
   "outputs": [],
   "source": [
    "def cnn(x, weights, biases):\n",
    "    x = tf.reshape(x, shape=[-1, input_height, input_width, input_channels])\n",
    "    conv1 = conv(x, weights['wc1'], biases['bc1'], stride_conv1)\n",
    "    conv1_pool = maxpooling(conv1, max_pool1_k)\n",
    "    \n",
    "    conv2 = conv(conv1_pool, weights['wc2'], biases['bc2'], stride_conv2)\n",
    "    conv2_pool = maxpooling(conv2, max_pool2_k)\n",
    "    \n",
    "    hidden_input = tf.reshape(conv2_pool, shape=[-1, input_size_to_hidden])\n",
    "    hidden_output_before_activation = tf.add(tf.matmul(hidden_input, weights['wh1']), biases['bh1'])\n",
    "    hidden_output = tf.nn.relu(hidden_output_before_activation)\n",
    "    \n",
    "    output = tf.add(tf.matmul(hidden_output, weights['wo']), biases['bo'])\n",
    "    return output"
   ]
  },
  {
   "cell_type": "code",
   "execution_count": null,
   "id": "deb6b050",
   "metadata": {},
   "outputs": [],
   "source": [
    "\n",
    "x = tf.reshape(x, shape[-1, input_height, input_width, input_channels])\n",
    "conv1 = conv(x, weights['wc1'], biases['bc1'], stride_conv1)\n",
    "print(maxpooling(conv1, 3))"
   ]
  },
  {
   "cell_type": "code",
   "execution_count": null,
   "id": "c3ff70ed",
   "metadata": {},
   "outputs": [],
   "source": [
    "x = tf.compat.v1.placeholder('float', [None, input_pixels])\n",
    "y = tf.compat.v1.placeholder(tf.int32, [None, n_out])\n",
    "pred = cnn(x, weights, biases)"
   ]
  },
  {
   "cell_type": "code",
   "execution_count": null,
   "id": "e845f775",
   "metadata": {},
   "outputs": [],
   "source": [
    "cost = tf.reduce_mean(tf.nn.softmax_cross_entropy_with_logits_v2(logits=pred , labels=y))"
   ]
  },
  {
   "cell_type": "code",
   "execution_count": null,
   "id": "16614a90",
   "metadata": {},
   "outputs": [],
   "source": [
    "optimizer = tf.train.AdamOptimizer(learning_rate = 0.01)\n",
    "optimize = optimizer.minimize(cost)"
   ]
  },
  {
   "cell_type": "code",
   "execution_count": null,
   "id": "30cf7739",
   "metadata": {},
   "outputs": [],
   "source": [
    "sess = tf.Session()\n",
    "sess.run(tf.global_variables_initializer())"
   ]
  }
 ],
 "metadata": {
  "kernelspec": {
   "display_name": "Python 3 (ipykernel)",
   "language": "python",
   "name": "python3"
  },
  "language_info": {
   "codemirror_mode": {
    "name": "ipython",
    "version": 3
   },
   "file_extension": ".py",
   "mimetype": "text/x-python",
   "name": "python",
   "nbconvert_exporter": "python",
   "pygments_lexer": "ipython3",
   "version": "3.9.12"
  }
 },
 "nbformat": 4,
 "nbformat_minor": 5
}
