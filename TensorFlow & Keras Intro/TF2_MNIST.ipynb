{
 "cells": [
  {
   "cell_type": "code",
   "execution_count": 1,
   "id": "16acf174",
   "metadata": {},
   "outputs": [],
   "source": [
    "import tensorflow as tf"
   ]
  },
  {
   "cell_type": "code",
   "execution_count": 2,
   "id": "1bad1897",
   "metadata": {},
   "outputs": [],
   "source": [
    "(x_train, y_train), (x_test, y_test) = tf.keras.datasets.mnist.load_data()"
   ]
  },
  {
   "cell_type": "code",
   "execution_count": 3,
   "id": "8d3922af",
   "metadata": {},
   "outputs": [
    {
     "name": "stdout",
     "output_type": "stream",
     "text": [
      "(60000, 28, 28) (60000,)\n",
      "(10000, 28, 28) (10000,)\n"
     ]
    }
   ],
   "source": [
    "print(x_train.shape, y_train.shape)\n",
    "print(x_test.shape, y_test.shape)"
   ]
  },
  {
   "cell_type": "code",
   "execution_count": 4,
   "id": "d44d62e7",
   "metadata": {},
   "outputs": [
    {
     "data": {
      "image/png": "[encoded data removed]",
      "text/plain": [
       "<Figure size 432x288 with 1 Axes>"
      ]
     },
     "metadata": {
      "needs_background": "light"
     },
     "output_type": "display_data"
    },
    {
     "name": "stdout",
     "output_type": "stream",
     "text": [
      "5\n"
     ]
    }
   ],
   "source": [
    "import matplotlib.pyplot as plt\n",
    "plt.imshow(x_train[0])\n",
    "plt.show()\n",
    "print(y_train[0])"
   ]
  },
  {
   "cell_type": "code",
   "execution_count": 5,
   "id": "5c6ef9aa",
   "metadata": {},
   "outputs": [],
   "source": [
    "x_train = x_train.reshape(x_train.shape[0], -1)/255.0\n",
    "x_test = x_test.reshape(x_test.shape[0], -1)/255.0\n",
    "y_train = tf.keras.utils.to_categorical(y_train)\n",
    "y_test = tf.keras.utils.to_categorical(y_test)"
   ]
  },
  {
   "cell_type": "code",
   "execution_count": 6,
   "id": "2e9818a2",
   "metadata": {},
   "outputs": [
    {
     "name": "stdout",
     "output_type": "stream",
     "text": [
      "(60000, 784) (60000, 10)\n",
      "(10000, 784) (10000, 10)\n"
     ]
    }
   ],
   "source": [
    "print(x_train.shape, y_train.shape) \n",
    "print(x_test.shape, y_test.shape)"
   ]
  },
  {
   "cell_type": "code",
   "execution_count": null,
   "id": "b0ea0df0",
   "metadata": {},
   "outputs": [],
   "source": [
    "# x_train.shape and x_test.shape being 784 represent the number of units in the input layer\n",
    "# x_train.shape and y_test.shape being 10 represent output layer units for classification\n",
    "'''There can be N number of hidden layers and any number of units in each of those hidden layers.\n",
    "** Sequential_api can be used here in-order to compute simple models as such.\n",
    "** There is also another api called functional_api which can handle more complex models where layers\n",
    "are not stacked sequentially instead there is some different arranged in kinda of a graph.'''"
   ]
  },
  {
   "cell_type": "markdown",
   "id": "05064313",
   "metadata": {},
   "source": [
    "## Sequential_API "
   ]
  },
  {
   "cell_type": "code",
   "execution_count": 7,
   "id": "df0d2e99",
   "metadata": {},
   "outputs": [],
   "source": [
    "from tensorflow.keras import Sequential\n",
    "from tensorflow.keras.layers import Dense"
   ]
  },
  {
   "cell_type": "code",
   "execution_count": 8,
   "id": "649f6e63",
   "metadata": {},
   "outputs": [],
   "source": [
    "model = Sequential()\n",
    "model.add(Dense(256, activation='relu', input_shape=(784,))) # relu - rectified layer unit\n",
    "model.add(Dense(256, activation='relu'))\n",
    "model.add(Dense(128, activation='relu'))\n",
    "model.add(Dense(10, activation='softmax')) # we would have used activation='sigmoid' for binary clsfctn\n",
    "                                           # instead here we are using 'softmax' which is eff for multiclass"
   ]
  },
  {
   "cell_type": "code",
   "execution_count": 9,
   "id": "3f9f09f4",
   "metadata": {},
   "outputs": [],
   "source": [
    "model.compile(optimizer='adam', loss='categorical_crossentropy', metrics=['accuracy'])"
   ]
  },
  {
   "cell_type": "code",
   "execution_count": 13,
   "id": "e59acb7c",
   "metadata": {
    "scrolled": true
   },
   "outputs": [
    {
     "name": "stdout",
     "output_type": "stream",
     "text": [
      "Epoch 1/10\n",
      "59/59 [==============================] - 3s 43ms/step - loss: 0.0195 - accuracy: 0.9948\n",
      "Epoch 2/10\n",
      "59/59 [==============================] - 3s 43ms/step - loss: 0.0145 - accuracy: 0.9965\n",
      "Epoch 3/10\n",
      "59/59 [==============================] - 3s 43ms/step - loss: 0.0119 - accuracy: 0.9970\n",
      "Epoch 4/10\n",
      "59/59 [==============================] - 3s 43ms/step - loss: 0.0095 - accuracy: 0.9980\n",
      "Epoch 5/10\n",
      "59/59 [==============================] - 3s 43ms/step - loss: 0.0074 - accuracy: 0.9987\n",
      "Epoch 6/10\n",
      "59/59 [==============================] - 3s 43ms/step - loss: 0.0064 - accuracy: 0.9988\n",
      "Epoch 7/10\n",
      "59/59 [==============================] - 3s 44ms/step - loss: 0.0057 - accuracy: 0.9988\n",
      "Epoch 8/10\n",
      "59/59 [==============================] - 3s 44ms/step - loss: 0.0039 - accuracy: 0.9995\n",
      "Epoch 9/10\n",
      "59/59 [==============================] - 3s 44ms/step - loss: 0.0030 - accuracy: 0.9996\n",
      "Epoch 10/10\n",
      "59/59 [==============================] - 3s 43ms/step - loss: 0.0023 - accuracy: 0.9997\n"
     ]
    },
    {
     "data": {
      "text/plain": [
       "<keras.callbacks.History at 0x22a2f9b66d0>"
      ]
     },
     "execution_count": 13,
     "metadata": {},
     "output_type": "execute_result"
    }
   ],
   "source": [
    "model.fit(x_train, y_train, epochs=10, batch_size=1024)"
   ]
  },
  {
   "cell_type": "code",
   "execution_count": 14,
   "id": "cfad532c",
   "metadata": {},
   "outputs": [
    {
     "name": "stdout",
     "output_type": "stream",
     "text": [
      "313/313 [==============================] - 1s 4ms/step - loss: 0.0763 - accuracy: 0.9804\n"
     ]
    },
    {
     "data": {
      "text/plain": [
       "[0.07630211859941483, 0.980400025844574]"
      ]
     },
     "execution_count": 14,
     "metadata": {},
     "output_type": "execute_result"
    }
   ],
   "source": [
    "model.evaluate(x_test, y_test)"
   ]
  },
  {
   "cell_type": "code",
   "execution_count": 15,
   "id": "c7982a7a",
   "metadata": {},
   "outputs": [
    {
     "name": "stdout",
     "output_type": "stream",
     "text": [
      "Model: \"sequential\"\n",
      "_________________________________________________________________\n",
      " Layer (type)                Output Shape              Param #   \n",
      "=================================================================\n",
      " dense (Dense)               (None, 256)               200960    \n",
      "                                                                 \n",
      " dense_1 (Dense)             (None, 256)               65792     \n",
      "                                                                 \n",
      " dense_2 (Dense)             (None, 128)               32896     \n",
      "                                                                 \n",
      " dense_3 (Dense)             (None, 10)                1290      \n",
      "                                                                 \n",
      "=================================================================\n",
      "Total params: 300,938\n",
      "Trainable params: 300,938\n",
      "Non-trainable params: 0\n",
      "_________________________________________________________________\n"
     ]
    }
   ],
   "source": [
    "model.summary()"
   ]
  },
  {
   "cell_type": "markdown",
   "id": "23d6699f",
   "metadata": {},
   "source": [
    "## Functional_API"
   ]
  },
  {
   "cell_type": "code",
   "execution_count": 16,
   "id": "654d2884",
   "metadata": {},
   "outputs": [],
   "source": [
    "from tensorflow.keras import Model\n",
    "from tensorflow.keras.layers import Concatenate, Input"
   ]
  },
  {
   "cell_type": "code",
   "execution_count": 17,
   "id": "de1ffc54",
   "metadata": {},
   "outputs": [],
   "source": [
    "input_ = Input(shape = [784,])\n",
    "hidden_1 = Dense(256, activation='relu')(input_)  # these two make up one side of the graph\n",
    "hidden_2 = Dense(256, activation='relu')(hidden_1) # i.e hidden_1 and hidden_2\n",
    "hidden_3 = Dense(256, activation='relu')(input_)  # forms another path in the graph for neural network flow"
   ]
  },
  {
   "cell_type": "code",
   "execution_count": 18,
   "id": "f3dee0f9",
   "metadata": {},
   "outputs": [],
   "source": [
    "concat_layer = Concatenate()([hidden_2, hidden_3])\n",
    "output = Dense(10, activation='softmax')(concat_layer)\n",
    "model = Model(inputs = [input_], outputs= [output])"
   ]
  },
  {
   "cell_type": "code",
   "execution_count": 19,
   "id": "0422b7ad",
   "metadata": {
    "scrolled": true
   },
   "outputs": [
    {
     "name": "stdout",
     "output_type": "stream",
     "text": [
      "Model: \"model\"\n",
      "__________________________________________________________________________________________________\n",
      " Layer (type)                   Output Shape         Param #     Connected to                     \n",
      "==================================================================================================\n",
      " input_1 (InputLayer)           [(None, 784)]        0           []                               \n",
      "                                                                                                  \n",
      " dense_4 (Dense)                (None, 256)          200960      ['input_1[0][0]']                \n",
      "                                                                                                  \n",
      " dense_5 (Dense)                (None, 256)          65792       ['dense_4[0][0]']                \n",
      "                                                                                                  \n",
      " dense_6 (Dense)                (None, 256)          200960      ['input_1[0][0]']                \n",
      "                                                                                                  \n",
      " concatenate (Concatenate)      (None, 512)          0           ['dense_5[0][0]',                \n",
      "                                                                  'dense_6[0][0]']                \n",
      "                                                                                                  \n",
      " dense_7 (Dense)                (None, 10)           5130        ['concatenate[0][0]']            \n",
      "                                                                                                  \n",
      "==================================================================================================\n",
      "Total params: 472,842\n",
      "Trainable params: 472,842\n",
      "Non-trainable params: 0\n",
      "__________________________________________________________________________________________________\n"
     ]
    }
   ],
   "source": [
    "model.summary()"
   ]
  },
  {
   "cell_type": "code",
   "execution_count": 20,
   "id": "6be74439",
   "metadata": {},
   "outputs": [],
   "source": [
    "model.compile(optimizer='adam', loss='categorical_crossentropy', metrics=['accuracy'])"
   ]
  },
  {
   "cell_type": "code",
   "execution_count": 21,
   "id": "4004a36c",
   "metadata": {
    "scrolled": true
   },
   "outputs": [
    {
     "name": "stdout",
     "output_type": "stream",
     "text": [
      "Epoch 1/10\n",
      "118/118 [==============================] - 5s 16ms/step - loss: 0.3939 - accuracy: 0.8902\n",
      "Epoch 2/10\n",
      "118/118 [==============================] - 2s 14ms/step - loss: 0.1486 - accuracy: 0.9573\n",
      "Epoch 3/10\n",
      "118/118 [==============================] - 2s 14ms/step - loss: 0.0991 - accuracy: 0.9712\n",
      "Epoch 4/10\n",
      "118/118 [==============================] - 2s 15ms/step - loss: 0.0716 - accuracy: 0.9789\n",
      "Epoch 5/10\n",
      "118/118 [==============================] - 2s 14ms/step - loss: 0.0535 - accuracy: 0.9840\n",
      "Epoch 6/10\n",
      "118/118 [==============================] - 2s 14ms/step - loss: 0.0416 - accuracy: 0.9877\n",
      "Epoch 7/10\n",
      "118/118 [==============================] - 2s 14ms/step - loss: 0.0306 - accuracy: 0.9916\n",
      "Epoch 8/10\n",
      "118/118 [==============================] - 2s 14ms/step - loss: 0.0266 - accuracy: 0.9925\n",
      "Epoch 9/10\n",
      "118/118 [==============================] - 2s 15ms/step - loss: 0.0190 - accuracy: 0.9951\n",
      "Epoch 10/10\n",
      "118/118 [==============================] - 2s 14ms/step - loss: 0.0146 - accuracy: 0.9964\n"
     ]
    },
    {
     "data": {
      "text/plain": [
       "<keras.callbacks.History at 0x22a304a8490>"
      ]
     },
     "execution_count": 21,
     "metadata": {},
     "output_type": "execute_result"
    }
   ],
   "source": [
    "model.fit(x_train, y_train, epochs=10, batch_size=512)"
   ]
  },
  {
   "cell_type": "code",
   "execution_count": 22,
   "id": "cd7446f7",
   "metadata": {},
   "outputs": [
    {
     "name": "stdout",
     "output_type": "stream",
     "text": [
      "313/313 [==============================] - 4s 11ms/step - loss: 0.0651 - accuracy: 0.9801\n"
     ]
    },
    {
     "data": {
      "text/plain": [
       "[0.06509219855070114, 0.9800999760627747]"
      ]
     },
     "execution_count": 22,
     "metadata": {},
     "output_type": "execute_result"
    }
   ],
   "source": [
    "model.evaluate(x_test, y_test)"
   ]
  }
 ],
 "metadata": {
  "kernelspec": {
   "display_name": "Python 3 (ipykernel)",
   "language": "python",
   "name": "python3"
  },
  "language_info": {
   "codemirror_mode": {
    "name": "ipython",
    "version": 3
   },
   "file_extension": ".py",
   "mimetype": "text/x-python",
   "name": "python",
   "nbconvert_exporter": "python",
   "pygments_lexer": "ipython3",
   "version": "3.9.12"
  }
 },
 "nbformat": 4,
 "nbformat_minor": 5
}
